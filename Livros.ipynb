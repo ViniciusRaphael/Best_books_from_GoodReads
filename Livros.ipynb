{
 "cells": [
  {
   "cell_type": "code",
   "execution_count": 1,
   "metadata": {
    "id": "Twgr371pkGI6"
   },
   "outputs": [],
   "source": [
    "import pandas as pd\n",
    "import seaborn as sns\n",
    "import matplotlib.pyplot as plt\n",
    "import matplotlib\n",
    "import numpy as np"
   ]
  },
  {
   "cell_type": "code",
   "execution_count": 2,
   "metadata": {
    "colab": {
     "base_uri": "https://localhost:8080/",
     "height": 370
    },
    "id": "BYaKKK2RQqty",
    "outputId": "bff65f5f-f64a-45bc-c652-1d9149bd0f9c"
   },
   "outputs": [],
   "source": [
    "df = pd.read_csv('books.csv')"
   ]
  },
  {
   "cell_type": "markdown",
   "metadata": {},
   "source": [
    "# Understanding the dataset"
   ]
  },
  {
   "cell_type": "code",
   "execution_count": 3,
   "metadata": {},
   "outputs": [
    {
     "name": "stdout",
     "output_type": "stream",
     "text": [
      "<class 'pandas.core.frame.DataFrame'>\n",
      "RangeIndex: 11123 entries, 0 to 11122\n",
      "Data columns (total 12 columns):\n",
      " #   Column              Non-Null Count  Dtype  \n",
      "---  ------              --------------  -----  \n",
      " 0   bookID              11123 non-null  int64  \n",
      " 1   title               11123 non-null  object \n",
      " 2   authors             11123 non-null  object \n",
      " 3   average_rating      11123 non-null  float64\n",
      " 4   isbn                11123 non-null  object \n",
      " 5   isbn13              11123 non-null  float64\n",
      " 6   language_code       11123 non-null  object \n",
      " 7   num_pages           11123 non-null  int64  \n",
      " 8   ratings_count       11123 non-null  int64  \n",
      " 9   text_reviews_count  11123 non-null  int64  \n",
      " 10  publication_date    11123 non-null  object \n",
      " 11  publisher           11123 non-null  object \n",
      "dtypes: float64(2), int64(4), object(6)\n",
      "memory usage: 1.0+ MB\n"
     ]
    }
   ],
   "source": [
    "# Verifying types of data in each columns\n",
    "\n",
    "df.info()"
   ]
  },
  {
   "cell_type": "code",
   "execution_count": 4,
   "metadata": {
    "scrolled": true
   },
   "outputs": [
    {
     "data": {
      "text/plain": [
       "bookID                0\n",
       "title                 0\n",
       "authors               0\n",
       "average_rating        0\n",
       "isbn                  0\n",
       "isbn13                0\n",
       "language_code         0\n",
       "num_pages             0\n",
       "ratings_count         0\n",
       "text_reviews_count    0\n",
       "publication_date      0\n",
       "publisher             0\n",
       "dtype: int64"
      ]
     },
     "execution_count": 4,
     "metadata": {},
     "output_type": "execute_result"
    }
   ],
   "source": [
    "# Any missing lines on this dataset?\n",
    "\n",
    "df.isnull().sum()"
   ]
  },
  {
   "cell_type": "code",
   "execution_count": 5,
   "metadata": {},
   "outputs": [
    {
     "name": "stdout",
     "output_type": "stream",
     "text": [
      "There is a total of 10348 unique titles on this dataset\n"
     ]
    }
   ],
   "source": [
    "# How many titles?\n",
    "\n",
    "unique_books = len(df['title'].unique())\n",
    "print(f'There is a total of {unique_books} unique titles on this dataset') "
   ]
  },
  {
   "cell_type": "code",
   "execution_count": 6,
   "metadata": {},
   "outputs": [
    {
     "name": "stdout",
     "output_type": "stream",
     "text": [
      "There is a total of 6632 unique titles on this dataset\n"
     ]
    }
   ],
   "source": [
    "# How many titles?\n",
    "\n",
    "authors = len(df['authors'].unique())\n",
    "print(f'There is a total of {authors} unique titles on this dataset') "
   ]
  },
  {
   "cell_type": "code",
   "execution_count": 7,
   "metadata": {},
   "outputs": [
    {
     "data": {
      "image/png": "[encoded data removed]",
      "text/plain": [
       "<Figure size 720x360 with 1 Axes>"
      ]
     },
     "metadata": {
      "needs_background": "light"
     },
     "output_type": "display_data"
    }
   ],
   "source": [
    "# What is the average rating \n",
    "\n",
    "plt.figure(figsize=(10,5))\n",
    "plt.hist(df['average_rating'],bins=20)\n",
    "plt.title('Average rating of books')\n",
    "plt.show()"
   ]
  },
  {
   "cell_type": "code",
   "execution_count": 8,
   "metadata": {},
   "outputs": [],
   "source": [
    "# What is the standard language?\n",
    "\n",
    "languages = df['language_code'].value_counts()\n",
    "languages = languages.to_frame().reset_index()\n",
    "languages.rename(columns={'index':'language', 'language_code':'quantity'}, inplace=True)"
   ]
  },
  {
   "cell_type": "code",
   "execution_count": 9,
   "metadata": {},
   "outputs": [
    {
     "data": {
      "text/html": [
       "<div>\n",
       "<style scoped>\n",
       "    .dataframe tbody tr th:only-of-type {\n",
       "        vertical-align: middle;\n",
       "    }\n",
       "\n",
       "    .dataframe tbody tr th {\n",
       "        vertical-align: top;\n",
       "    }\n",
       "\n",
       "    .dataframe thead th {\n",
       "        text-align: right;\n",
       "    }\n",
       "</style>\n",
       "<table border=\"1\" class=\"dataframe\">\n",
       "  <thead>\n",
       "    <tr style=\"text-align: right;\">\n",
       "      <th></th>\n",
       "      <th>language</th>\n",
       "      <th>quantity</th>\n",
       "      <th>percentage</th>\n",
       "    </tr>\n",
       "  </thead>\n",
       "  <tbody>\n",
       "    <tr>\n",
       "      <th>0</th>\n",
       "      <td>eng</td>\n",
       "      <td>8908</td>\n",
       "      <td>80.09</td>\n",
       "    </tr>\n",
       "    <tr>\n",
       "      <th>1</th>\n",
       "      <td>en-US</td>\n",
       "      <td>1408</td>\n",
       "      <td>12.66</td>\n",
       "    </tr>\n",
       "    <tr>\n",
       "      <th>2</th>\n",
       "      <td>spa</td>\n",
       "      <td>218</td>\n",
       "      <td>1.96</td>\n",
       "    </tr>\n",
       "    <tr>\n",
       "      <th>3</th>\n",
       "      <td>en-GB</td>\n",
       "      <td>214</td>\n",
       "      <td>1.92</td>\n",
       "    </tr>\n",
       "    <tr>\n",
       "      <th>4</th>\n",
       "      <td>fre</td>\n",
       "      <td>144</td>\n",
       "      <td>1.29</td>\n",
       "    </tr>\n",
       "    <tr>\n",
       "      <th>5</th>\n",
       "      <td>ger</td>\n",
       "      <td>99</td>\n",
       "      <td>0.89</td>\n",
       "    </tr>\n",
       "    <tr>\n",
       "      <th>6</th>\n",
       "      <td>jpn</td>\n",
       "      <td>46</td>\n",
       "      <td>0.41</td>\n",
       "    </tr>\n",
       "    <tr>\n",
       "      <th>7</th>\n",
       "      <td>mul</td>\n",
       "      <td>19</td>\n",
       "      <td>0.17</td>\n",
       "    </tr>\n",
       "    <tr>\n",
       "      <th>8</th>\n",
       "      <td>zho</td>\n",
       "      <td>14</td>\n",
       "      <td>0.13</td>\n",
       "    </tr>\n",
       "    <tr>\n",
       "      <th>9</th>\n",
       "      <td>grc</td>\n",
       "      <td>11</td>\n",
       "      <td>0.10</td>\n",
       "    </tr>\n",
       "  </tbody>\n",
       "</table>\n",
       "</div>"
      ],
      "text/plain": [
       "  language  quantity  percentage\n",
       "0      eng      8908       80.09\n",
       "1    en-US      1408       12.66\n",
       "2      spa       218        1.96\n",
       "3    en-GB       214        1.92\n",
       "4      fre       144        1.29\n",
       "5      ger        99        0.89\n",
       "6      jpn        46        0.41\n",
       "7      mul        19        0.17\n",
       "8      zho        14        0.13\n",
       "9      grc        11        0.10"
      ]
     },
     "execution_count": 9,
     "metadata": {},
     "output_type": "execute_result"
    }
   ],
   "source": [
    "languages['percentage'] = (languages['quantity'] / languages['quantity'].sum() * 100).round(2)\n",
    "languages.head(10) #showing top 10 most frequent"
   ]
  },
  {
   "cell_type": "code",
   "execution_count": 10,
   "metadata": {},
   "outputs": [
    {
     "data": {
      "image/png": "[encoded data removed]",
      "text/plain": [
       "<Figure size 1080x360 with 1 Axes>"
      ]
     },
     "metadata": {
      "needs_background": "light"
     },
     "output_type": "display_data"
    }
   ],
   "source": [
    "# How many pages the books on this dataset have?\n",
    "\n",
    "plt.figure(figsize=(15,5))\n",
    "plt.hist(df['num_pages'], bins=20)\n",
    "plt.show()"
   ]
  },
  {
   "cell_type": "markdown",
   "metadata": {},
   "source": [
    "# Treating data"
   ]
  },
  {
   "cell_type": "code",
   "execution_count": 11,
   "metadata": {
    "colab": {
     "base_uri": "https://localhost:8080/",
     "height": 195
    },
    "id": "k9p_6w96pZF0",
    "outputId": "054dd653-cc08-4b80-ea24-a276b9c16251"
   },
   "outputs": [
    {
     "data": {
      "text/html": [
       "<div>\n",
       "<style scoped>\n",
       "    .dataframe tbody tr th:only-of-type {\n",
       "        vertical-align: middle;\n",
       "    }\n",
       "\n",
       "    .dataframe tbody tr th {\n",
       "        vertical-align: top;\n",
       "    }\n",
       "\n",
       "    .dataframe thead th {\n",
       "        text-align: right;\n",
       "    }\n",
       "</style>\n",
       "<table border=\"1\" class=\"dataframe\">\n",
       "  <thead>\n",
       "    <tr style=\"text-align: right;\">\n",
       "      <th></th>\n",
       "      <th>bookID</th>\n",
       "      <th>title</th>\n",
       "      <th>authors</th>\n",
       "      <th>average_rating</th>\n",
       "      <th>language_code</th>\n",
       "      <th>num_pages</th>\n",
       "      <th>ratings_count</th>\n",
       "      <th>text_reviews_count</th>\n",
       "      <th>publication_date</th>\n",
       "      <th>publisher</th>\n",
       "    </tr>\n",
       "  </thead>\n",
       "  <tbody>\n",
       "    <tr>\n",
       "      <th>0</th>\n",
       "      <td>16967</td>\n",
       "      <td>1632</td>\n",
       "      <td>Eric Flint</td>\n",
       "      <td>4.04</td>\n",
       "      <td>eng</td>\n",
       "      <td>597</td>\n",
       "      <td>8406</td>\n",
       "      <td>638</td>\n",
       "      <td>6/15/2006</td>\n",
       "      <td>Baen Books</td>\n",
       "    </tr>\n",
       "    <tr>\n",
       "      <th>1</th>\n",
       "      <td>1067</td>\n",
       "      <td>1776</td>\n",
       "      <td>David McCullough</td>\n",
       "      <td>4.07</td>\n",
       "      <td>eng</td>\n",
       "      <td>386</td>\n",
       "      <td>166916</td>\n",
       "      <td>6243</td>\n",
       "      <td>7/4/2006</td>\n",
       "      <td>Simon  Schuster</td>\n",
       "    </tr>\n",
       "    <tr>\n",
       "      <th>2</th>\n",
       "      <td>1068</td>\n",
       "      <td>1776</td>\n",
       "      <td>Peter  Stone/Sherman Edwards</td>\n",
       "      <td>4.22</td>\n",
       "      <td>eng</td>\n",
       "      <td>192</td>\n",
       "      <td>1299</td>\n",
       "      <td>30</td>\n",
       "      <td>11/18/1976</td>\n",
       "      <td>Penguin Books</td>\n",
       "    </tr>\n",
       "    <tr>\n",
       "      <th>3</th>\n",
       "      <td>5477</td>\n",
       "      <td>1984</td>\n",
       "      <td>George Orwell/Erich Fromm</td>\n",
       "      <td>4.18</td>\n",
       "      <td>eng</td>\n",
       "      <td>268</td>\n",
       "      <td>1322</td>\n",
       "      <td>121</td>\n",
       "      <td>7/1/1981</td>\n",
       "      <td>Signet Classics</td>\n",
       "    </tr>\n",
       "    <tr>\n",
       "      <th>4</th>\n",
       "      <td>19100</td>\n",
       "      <td>1984</td>\n",
       "      <td>George Orwell/Mauricio Molina/Miguel Martínez ...</td>\n",
       "      <td>4.18</td>\n",
       "      <td>spa</td>\n",
       "      <td>301</td>\n",
       "      <td>451</td>\n",
       "      <td>42</td>\n",
       "      <td>8/1/2002</td>\n",
       "      <td>Lectorum</td>\n",
       "    </tr>\n",
       "  </tbody>\n",
       "</table>\n",
       "</div>"
      ],
      "text/plain": [
       "   bookID title                                            authors  \\\n",
       "0   16967  1632                                         Eric Flint   \n",
       "1    1067  1776                                   David McCullough   \n",
       "2    1068  1776                       Peter  Stone/Sherman Edwards   \n",
       "3    5477  1984                          George Orwell/Erich Fromm   \n",
       "4   19100  1984  George Orwell/Mauricio Molina/Miguel Martínez ...   \n",
       "\n",
       "   average_rating language_code  num_pages  ratings_count  text_reviews_count  \\\n",
       "0            4.04           eng        597           8406                 638   \n",
       "1            4.07           eng        386         166916                6243   \n",
       "2            4.22           eng        192           1299                  30   \n",
       "3            4.18           eng        268           1322                 121   \n",
       "4            4.18           spa        301            451                  42   \n",
       "\n",
       "  publication_date        publisher  \n",
       "0        6/15/2006       Baen Books  \n",
       "1         7/4/2006  Simon  Schuster  \n",
       "2       11/18/1976    Penguin Books  \n",
       "3         7/1/1981  Signet Classics  \n",
       "4         8/1/2002         Lectorum  "
      ]
     },
     "execution_count": 11,
     "metadata": {},
     "output_type": "execute_result"
    }
   ],
   "source": [
    "# Ordering by Ratings_Counts\n",
    "df.sort_values(by='ratings_count', ascending=False) \n",
    "\n",
    "# Removing columns that are not relevant\n",
    "df.drop(columns=['isbn', 'isbn13'], inplace=True) \n",
    "\n",
    "# Removing all the books that have not been voted at all\n",
    "df = df.loc[df['ratings_count'] > 0] \n",
    "df.head()"
   ]
  },
  {
   "cell_type": "code",
   "execution_count": 12,
   "metadata": {
    "scrolled": true
   },
   "outputs": [
    {
     "data": {
      "text/plain": [
       "count    1.104300e+04\n",
       "mean     1.807283e+04\n",
       "std      1.128955e+05\n",
       "min      1.000000e+00\n",
       "25%      1.100000e+02\n",
       "50%      7.660000e+02\n",
       "75%      5.061500e+03\n",
       "max      4.597666e+06\n",
       "Name: ratings_count, dtype: float64"
      ]
     },
     "execution_count": 12,
     "metadata": {},
     "output_type": "execute_result"
    }
   ],
   "source": [
    "df['ratings_count'].describe()"
   ]
  },
  {
   "cell_type": "code",
   "execution_count": 13,
   "metadata": {},
   "outputs": [
    {
     "data": {
      "image/png": "[encoded data removed]",
      "text/plain": [
       "<Figure size 1440x360 with 1 Axes>"
      ]
     },
     "metadata": {
      "needs_background": "light"
     },
     "output_type": "display_data"
    }
   ],
   "source": [
    "# There are a few outliers in the dataset so we need to find a reasonable number to make the plot understandable\n",
    "df1 = df.loc[df['ratings_count'] < 100000]\n",
    "plt.figure(figsize=(20,5))\n",
    "plt.boxplot(df1['ratings_count'], vert=False)\n",
    "plt.show()"
   ]
  },
  {
   "cell_type": "markdown",
   "metadata": {},
   "source": [
    "## Outliers Removal with IQR (did not work properly)"
   ]
  },
  {
   "cell_type": "code",
   "execution_count": 14,
   "metadata": {},
   "outputs": [
    {
     "name": "stdout",
     "output_type": "stream",
     "text": [
      "Q1 110.0 - Q3 5061.5 - IQR 4951.5\n"
     ]
    }
   ],
   "source": [
    "Q1 = df['ratings_count'].quantile(0.25)\n",
    "Q3 = df['ratings_count'].quantile(0.75)\n",
    "IQR = Q3 - Q1\n",
    "print(f'Q1 {Q1} - Q3 {Q3} - IQR {IQR}')"
   ]
  },
  {
   "cell_type": "code",
   "execution_count": 15,
   "metadata": {},
   "outputs": [
    {
     "data": {
      "text/plain": [
       "(-7317.25, 12488.75)"
      ]
     },
     "execution_count": 15,
     "metadata": {},
     "output_type": "execute_result"
    }
   ],
   "source": [
    "lower_limit = Q1 - (IQR * 1.5)\n",
    "upper_limit = Q3 + (IQR * 1.5)\n",
    "lower_limit, upper_limit"
   ]
  },
  {
   "cell_type": "code",
   "execution_count": 16,
   "metadata": {},
   "outputs": [
    {
     "data": {
      "text/html": [
       "<div>\n",
       "<style scoped>\n",
       "    .dataframe tbody tr th:only-of-type {\n",
       "        vertical-align: middle;\n",
       "    }\n",
       "\n",
       "    .dataframe tbody tr th {\n",
       "        vertical-align: top;\n",
       "    }\n",
       "\n",
       "    .dataframe thead th {\n",
       "        text-align: right;\n",
       "    }\n",
       "</style>\n",
       "<table border=\"1\" class=\"dataframe\">\n",
       "  <thead>\n",
       "    <tr style=\"text-align: right;\">\n",
       "      <th></th>\n",
       "      <th>bookID</th>\n",
       "      <th>title</th>\n",
       "      <th>authors</th>\n",
       "      <th>average_rating</th>\n",
       "      <th>language_code</th>\n",
       "      <th>num_pages</th>\n",
       "      <th>ratings_count</th>\n",
       "      <th>text_reviews_count</th>\n",
       "      <th>publication_date</th>\n",
       "      <th>publisher</th>\n",
       "    </tr>\n",
       "  </thead>\n",
       "  <tbody>\n",
       "    <tr>\n",
       "      <th>1</th>\n",
       "      <td>1067</td>\n",
       "      <td>1776</td>\n",
       "      <td>David McCullough</td>\n",
       "      <td>4.07</td>\n",
       "      <td>eng</td>\n",
       "      <td>386</td>\n",
       "      <td>166916</td>\n",
       "      <td>6243</td>\n",
       "      <td>7/4/2006</td>\n",
       "      <td>Simon  Schuster</td>\n",
       "    </tr>\n",
       "    <tr>\n",
       "      <th>8</th>\n",
       "      <td>11525</td>\n",
       "      <td>1 000 Places to See Before You Die</td>\n",
       "      <td>Patricia Schultz</td>\n",
       "      <td>3.85</td>\n",
       "      <td>eng</td>\n",
       "      <td>992</td>\n",
       "      <td>36303</td>\n",
       "      <td>439</td>\n",
       "      <td>5/22/2003</td>\n",
       "      <td>Workman Publishing Company</td>\n",
       "    </tr>\n",
       "    <tr>\n",
       "      <th>11</th>\n",
       "      <td>11339</td>\n",
       "      <td>100 Love Sonnets</td>\n",
       "      <td>Pablo Neruda/Stephen Tapscott</td>\n",
       "      <td>4.39</td>\n",
       "      <td>eng</td>\n",
       "      <td>232</td>\n",
       "      <td>12613</td>\n",
       "      <td>392</td>\n",
       "      <td>1/1/1986</td>\n",
       "      <td>University of Texas Press</td>\n",
       "    </tr>\n",
       "    <tr>\n",
       "      <th>18</th>\n",
       "      <td>17020</td>\n",
       "      <td>13 Little Blue Envelopes (Little Blue Envelope...</td>\n",
       "      <td>Maureen Johnson</td>\n",
       "      <td>3.64</td>\n",
       "      <td>eng</td>\n",
       "      <td>322</td>\n",
       "      <td>70689</td>\n",
       "      <td>4067</td>\n",
       "      <td>12/21/2010</td>\n",
       "      <td>HarperCollins Publishers</td>\n",
       "    </tr>\n",
       "    <tr>\n",
       "      <th>21</th>\n",
       "      <td>39020</td>\n",
       "      <td>1491: New Revelations of the Americas Before C...</td>\n",
       "      <td>Charles C. Mann</td>\n",
       "      <td>4.02</td>\n",
       "      <td>eng</td>\n",
       "      <td>541</td>\n",
       "      <td>56290</td>\n",
       "      <td>3238</td>\n",
       "      <td>10/10/2006</td>\n",
       "      <td>Vintage</td>\n",
       "    </tr>\n",
       "    <tr>\n",
       "      <th>...</th>\n",
       "      <td>...</td>\n",
       "      <td>...</td>\n",
       "      <td>...</td>\n",
       "      <td>...</td>\n",
       "      <td>...</td>\n",
       "      <td>...</td>\n",
       "      <td>...</td>\n",
       "      <td>...</td>\n",
       "      <td>...</td>\n",
       "      <td>...</td>\n",
       "    </tr>\n",
       "    <tr>\n",
       "      <th>11076</th>\n",
       "      <td>33453</td>\n",
       "      <td>You Suck (A Love Story  #2)</td>\n",
       "      <td>Christopher Moore</td>\n",
       "      <td>3.83</td>\n",
       "      <td>eng</td>\n",
       "      <td>328</td>\n",
       "      <td>42028</td>\n",
       "      <td>2416</td>\n",
       "      <td>1/16/2007</td>\n",
       "      <td>William Morrow</td>\n",
       "    </tr>\n",
       "    <tr>\n",
       "      <th>11095</th>\n",
       "      <td>22193</td>\n",
       "      <td>You're the One That I Want (Gossip Girl  #6)</td>\n",
       "      <td>Cecily von Ziegesar</td>\n",
       "      <td>3.71</td>\n",
       "      <td>eng</td>\n",
       "      <td>224</td>\n",
       "      <td>17875</td>\n",
       "      <td>204</td>\n",
       "      <td>10/6/2004</td>\n",
       "      <td>Little  Brown Young Readers</td>\n",
       "    </tr>\n",
       "    <tr>\n",
       "      <th>11101</th>\n",
       "      <td>13134</td>\n",
       "      <td>You've Been Warned</td>\n",
       "      <td>James Patterson/Howard Roughan</td>\n",
       "      <td>3.53</td>\n",
       "      <td>eng</td>\n",
       "      <td>374</td>\n",
       "      <td>18058</td>\n",
       "      <td>1519</td>\n",
       "      <td>9/10/2007</td>\n",
       "      <td>Little Brown and Company</td>\n",
       "    </tr>\n",
       "    <tr>\n",
       "      <th>11108</th>\n",
       "      <td>629</td>\n",
       "      <td>Zen and the Art of Motorcycle Maintenance: An ...</td>\n",
       "      <td>Robert M. Pirsig</td>\n",
       "      <td>3.77</td>\n",
       "      <td>eng</td>\n",
       "      <td>540</td>\n",
       "      <td>166046</td>\n",
       "      <td>6446</td>\n",
       "      <td>4/25/2006</td>\n",
       "      <td>HarperTorch</td>\n",
       "    </tr>\n",
       "    <tr>\n",
       "      <th>11121</th>\n",
       "      <td>24796</td>\n",
       "      <td>Zorro</td>\n",
       "      <td>Isabel Allende/Margaret Sayers Peden/محمدعلی م...</td>\n",
       "      <td>3.76</td>\n",
       "      <td>eng</td>\n",
       "      <td>677</td>\n",
       "      <td>16324</td>\n",
       "      <td>1145</td>\n",
       "      <td>5/3/2005</td>\n",
       "      <td>HarperLargePrint</td>\n",
       "    </tr>\n",
       "  </tbody>\n",
       "</table>\n",
       "<p>1710 rows × 10 columns</p>\n",
       "</div>"
      ],
      "text/plain": [
       "       bookID                                              title  \\\n",
       "1        1067                                               1776   \n",
       "8       11525                 1 000 Places to See Before You Die   \n",
       "11      11339                                   100 Love Sonnets   \n",
       "18      17020  13 Little Blue Envelopes (Little Blue Envelope...   \n",
       "21      39020  1491: New Revelations of the Americas Before C...   \n",
       "...       ...                                                ...   \n",
       "11076   33453                        You Suck (A Love Story  #2)   \n",
       "11095   22193       You're the One That I Want (Gossip Girl  #6)   \n",
       "11101   13134                                 You've Been Warned   \n",
       "11108     629  Zen and the Art of Motorcycle Maintenance: An ...   \n",
       "11121   24796                                              Zorro   \n",
       "\n",
       "                                                 authors  average_rating  \\\n",
       "1                                       David McCullough            4.07   \n",
       "8                                       Patricia Schultz            3.85   \n",
       "11                         Pablo Neruda/Stephen Tapscott            4.39   \n",
       "18                                       Maureen Johnson            3.64   \n",
       "21                                       Charles C. Mann            4.02   \n",
       "...                                                  ...             ...   \n",
       "11076                                  Christopher Moore            3.83   \n",
       "11095                                Cecily von Ziegesar            3.71   \n",
       "11101                     James Patterson/Howard Roughan            3.53   \n",
       "11108                                   Robert M. Pirsig            3.77   \n",
       "11121  Isabel Allende/Margaret Sayers Peden/محمدعلی م...            3.76   \n",
       "\n",
       "      language_code  num_pages  ratings_count  text_reviews_count  \\\n",
       "1               eng        386         166916                6243   \n",
       "8               eng        992          36303                 439   \n",
       "11              eng        232          12613                 392   \n",
       "18              eng        322          70689                4067   \n",
       "21              eng        541          56290                3238   \n",
       "...             ...        ...            ...                 ...   \n",
       "11076           eng        328          42028                2416   \n",
       "11095           eng        224          17875                 204   \n",
       "11101           eng        374          18058                1519   \n",
       "11108           eng        540         166046                6446   \n",
       "11121           eng        677          16324                1145   \n",
       "\n",
       "      publication_date                    publisher  \n",
       "1             7/4/2006              Simon  Schuster  \n",
       "8            5/22/2003   Workman Publishing Company  \n",
       "11            1/1/1986    University of Texas Press  \n",
       "18          12/21/2010     HarperCollins Publishers  \n",
       "21          10/10/2006                      Vintage  \n",
       "...                ...                          ...  \n",
       "11076        1/16/2007               William Morrow  \n",
       "11095        10/6/2004  Little  Brown Young Readers  \n",
       "11101        9/10/2007     Little Brown and Company  \n",
       "11108        4/25/2006                  HarperTorch  \n",
       "11121         5/3/2005             HarperLargePrint  \n",
       "\n",
       "[1710 rows x 10 columns]"
      ]
     },
     "execution_count": 16,
     "metadata": {},
     "output_type": "execute_result"
    }
   ],
   "source": [
    "outlier_iqr = df.loc[(df['ratings_count'] < lower_limit)|(df['ratings_count'] > upper_limit)]\n",
    "outlier_iqr"
   ]
  },
  {
   "cell_type": "code",
   "execution_count": 17,
   "metadata": {
    "scrolled": true
   },
   "outputs": [
    {
     "data": {
      "text/html": [
       "<div>\n",
       "<style scoped>\n",
       "    .dataframe tbody tr th:only-of-type {\n",
       "        vertical-align: middle;\n",
       "    }\n",
       "\n",
       "    .dataframe tbody tr th {\n",
       "        vertical-align: top;\n",
       "    }\n",
       "\n",
       "    .dataframe thead th {\n",
       "        text-align: right;\n",
       "    }\n",
       "</style>\n",
       "<table border=\"1\" class=\"dataframe\">\n",
       "  <thead>\n",
       "    <tr style=\"text-align: right;\">\n",
       "      <th></th>\n",
       "      <th>bookID</th>\n",
       "      <th>title</th>\n",
       "      <th>authors</th>\n",
       "      <th>average_rating</th>\n",
       "      <th>language_code</th>\n",
       "      <th>num_pages</th>\n",
       "      <th>ratings_count</th>\n",
       "      <th>text_reviews_count</th>\n",
       "      <th>publication_date</th>\n",
       "      <th>publisher</th>\n",
       "    </tr>\n",
       "  </thead>\n",
       "  <tbody>\n",
       "    <tr>\n",
       "      <th>5604</th>\n",
       "      <td>29393</td>\n",
       "      <td>Our Band Could Be Your Life: Scenes from the A...</td>\n",
       "      <td>Michael Azerrad</td>\n",
       "      <td>4.18</td>\n",
       "      <td>eng</td>\n",
       "      <td>522</td>\n",
       "      <td>12472</td>\n",
       "      <td>573</td>\n",
       "      <td>7/2/2002</td>\n",
       "      <td>Back Bay Books</td>\n",
       "    </tr>\n",
       "    <tr>\n",
       "      <th>6534</th>\n",
       "      <td>23226</td>\n",
       "      <td>She Went All the Way</td>\n",
       "      <td>Meg Cabot</td>\n",
       "      <td>3.70</td>\n",
       "      <td>eng</td>\n",
       "      <td>357</td>\n",
       "      <td>12470</td>\n",
       "      <td>441</td>\n",
       "      <td>12/3/2002</td>\n",
       "      <td>Avon</td>\n",
       "    </tr>\n",
       "    <tr>\n",
       "      <th>2014</th>\n",
       "      <td>13623</td>\n",
       "      <td>Death Note  Vol. 10: Deletion (Death Note  #10)</td>\n",
       "      <td>Tsugumi Ohba/Takeshi Obata/Tetsuichiro Miyaki</td>\n",
       "      <td>4.22</td>\n",
       "      <td>eng</td>\n",
       "      <td>188</td>\n",
       "      <td>12461</td>\n",
       "      <td>325</td>\n",
       "      <td>3/6/2007</td>\n",
       "      <td>VIZ Media LLC</td>\n",
       "    </tr>\n",
       "    <tr>\n",
       "      <th>9815</th>\n",
       "      <td>27208</td>\n",
       "      <td>The Third Policeman</td>\n",
       "      <td>Flann O'Brien/Denis Donoghue</td>\n",
       "      <td>4.01</td>\n",
       "      <td>eng</td>\n",
       "      <td>200</td>\n",
       "      <td>12452</td>\n",
       "      <td>1179</td>\n",
       "      <td>3/1/1999</td>\n",
       "      <td>Dalkey Archive Press</td>\n",
       "    </tr>\n",
       "    <tr>\n",
       "      <th>2732</th>\n",
       "      <td>24476</td>\n",
       "      <td>Fargo Rock City: A Heavy Metal Odyssey in Rura...</td>\n",
       "      <td>Chuck Klosterman</td>\n",
       "      <td>3.80</td>\n",
       "      <td>eng</td>\n",
       "      <td>288</td>\n",
       "      <td>12448</td>\n",
       "      <td>526</td>\n",
       "      <td>5/1/2002</td>\n",
       "      <td>Scribner</td>\n",
       "    </tr>\n",
       "    <tr>\n",
       "      <th>...</th>\n",
       "      <td>...</td>\n",
       "      <td>...</td>\n",
       "      <td>...</td>\n",
       "      <td>...</td>\n",
       "      <td>...</td>\n",
       "      <td>...</td>\n",
       "      <td>...</td>\n",
       "      <td>...</td>\n",
       "      <td>...</td>\n",
       "      <td>...</td>\n",
       "    </tr>\n",
       "    <tr>\n",
       "      <th>10093</th>\n",
       "      <td>33581</td>\n",
       "      <td>The Work of Work Servitude  Slavery and Labor ...</td>\n",
       "      <td>Allen J. Frantzen/Ruth Mazo Karras/Madonna J. ...</td>\n",
       "      <td>3.00</td>\n",
       "      <td>eng</td>\n",
       "      <td>240</td>\n",
       "      <td>1</td>\n",
       "      <td>0</td>\n",
       "      <td>8/14/1994</td>\n",
       "      <td>Cruithne Press</td>\n",
       "    </tr>\n",
       "    <tr>\n",
       "      <th>2138</th>\n",
       "      <td>17513</td>\n",
       "      <td>Die Verschwundene Katze = The Missing Cat</td>\n",
       "      <td>Chris L. Demarest</td>\n",
       "      <td>4.14</td>\n",
       "      <td>ger</td>\n",
       "      <td>64</td>\n",
       "      <td>1</td>\n",
       "      <td>0</td>\n",
       "      <td>1/1/1996</td>\n",
       "      <td>Berlitz Kids</td>\n",
       "    </tr>\n",
       "    <tr>\n",
       "      <th>2159</th>\n",
       "      <td>21934</td>\n",
       "      <td>Dirty White Boys</td>\n",
       "      <td>Stephen Hunter/Will Patten</td>\n",
       "      <td>4.05</td>\n",
       "      <td>eng</td>\n",
       "      <td>0</td>\n",
       "      <td>1</td>\n",
       "      <td>1</td>\n",
       "      <td>5/1/2006</td>\n",
       "      <td>Hachette Audio</td>\n",
       "    </tr>\n",
       "    <tr>\n",
       "      <th>7476</th>\n",
       "      <td>45392</td>\n",
       "      <td>The Brave Women of the Gulf Wars: Operation De...</td>\n",
       "      <td>Karen Zeinert/Mary Miller</td>\n",
       "      <td>4.00</td>\n",
       "      <td>eng</td>\n",
       "      <td>112</td>\n",
       "      <td>1</td>\n",
       "      <td>0</td>\n",
       "      <td>9/1/2005</td>\n",
       "      <td>Twenty-First Century Books (CT)</td>\n",
       "    </tr>\n",
       "    <tr>\n",
       "      <th>10723</th>\n",
       "      <td>534</td>\n",
       "      <td>We Were Not Like Other People</td>\n",
       "      <td>Ephraim Sevela/Antonina W. Bouis</td>\n",
       "      <td>4.14</td>\n",
       "      <td>eng</td>\n",
       "      <td>216</td>\n",
       "      <td>1</td>\n",
       "      <td>0</td>\n",
       "      <td>1/1/1989</td>\n",
       "      <td>HarperCollins Publishers</td>\n",
       "    </tr>\n",
       "  </tbody>\n",
       "</table>\n",
       "<p>9333 rows × 10 columns</p>\n",
       "</div>"
      ],
      "text/plain": [
       "       bookID                                              title  \\\n",
       "5604    29393  Our Band Could Be Your Life: Scenes from the A...   \n",
       "6534    23226                               She Went All the Way   \n",
       "2014    13623    Death Note  Vol. 10: Deletion (Death Note  #10)   \n",
       "9815    27208                                The Third Policeman   \n",
       "2732    24476  Fargo Rock City: A Heavy Metal Odyssey in Rura...   \n",
       "...       ...                                                ...   \n",
       "10093   33581  The Work of Work Servitude  Slavery and Labor ...   \n",
       "2138    17513          Die Verschwundene Katze = The Missing Cat   \n",
       "2159    21934                                   Dirty White Boys   \n",
       "7476    45392  The Brave Women of the Gulf Wars: Operation De...   \n",
       "10723     534                      We Were Not Like Other People   \n",
       "\n",
       "                                                 authors  average_rating  \\\n",
       "5604                                     Michael Azerrad            4.18   \n",
       "6534                                           Meg Cabot            3.70   \n",
       "2014       Tsugumi Ohba/Takeshi Obata/Tetsuichiro Miyaki            4.22   \n",
       "9815                        Flann O'Brien/Denis Donoghue            4.01   \n",
       "2732                                    Chuck Klosterman            3.80   \n",
       "...                                                  ...             ...   \n",
       "10093  Allen J. Frantzen/Ruth Mazo Karras/Madonna J. ...            3.00   \n",
       "2138                                   Chris L. Demarest            4.14   \n",
       "2159                          Stephen Hunter/Will Patten            4.05   \n",
       "7476                           Karen Zeinert/Mary Miller            4.00   \n",
       "10723                   Ephraim Sevela/Antonina W. Bouis            4.14   \n",
       "\n",
       "      language_code  num_pages  ratings_count  text_reviews_count  \\\n",
       "5604            eng        522          12472                 573   \n",
       "6534            eng        357          12470                 441   \n",
       "2014            eng        188          12461                 325   \n",
       "9815            eng        200          12452                1179   \n",
       "2732            eng        288          12448                 526   \n",
       "...             ...        ...            ...                 ...   \n",
       "10093           eng        240              1                   0   \n",
       "2138            ger         64              1                   0   \n",
       "2159            eng          0              1                   1   \n",
       "7476            eng        112              1                   0   \n",
       "10723           eng        216              1                   0   \n",
       "\n",
       "      publication_date                        publisher  \n",
       "5604          7/2/2002                   Back Bay Books  \n",
       "6534         12/3/2002                             Avon  \n",
       "2014          3/6/2007                    VIZ Media LLC  \n",
       "9815          3/1/1999             Dalkey Archive Press  \n",
       "2732          5/1/2002                         Scribner  \n",
       "...                ...                              ...  \n",
       "10093        8/14/1994                   Cruithne Press  \n",
       "2138          1/1/1996                     Berlitz Kids  \n",
       "2159          5/1/2006                   Hachette Audio  \n",
       "7476          9/1/2005  Twenty-First Century Books (CT)  \n",
       "10723         1/1/1989         HarperCollins Publishers  \n",
       "\n",
       "[9333 rows x 10 columns]"
      ]
     },
     "execution_count": 17,
     "metadata": {},
     "output_type": "execute_result"
    }
   ],
   "source": [
    "df_no_outlier = df.loc[(df['ratings_count'] > lower_limit ) & (df['ratings_count'] < upper_limit)].sort_values(by='ratings_count', ascending=False)\n",
    "df_no_outlier"
   ]
  },
  {
   "cell_type": "markdown",
   "metadata": {},
   "source": [
    "### Did not work well because the lower limit (-7317.25) does not exist  as minimum vote count is 0 and upper limit is too short, leading us to cut out a lot of relevante data"
   ]
  },
  {
   "cell_type": "markdown",
   "metadata": {},
   "source": [
    "## Outliers Removal with Z-Score (did not work properly)"
   ]
  },
  {
   "cell_type": "code",
   "execution_count": 18,
   "metadata": {},
   "outputs": [
    {
     "data": {
      "text/html": [
       "<div>\n",
       "<style scoped>\n",
       "    .dataframe tbody tr th:only-of-type {\n",
       "        vertical-align: middle;\n",
       "    }\n",
       "\n",
       "    .dataframe tbody tr th {\n",
       "        vertical-align: top;\n",
       "    }\n",
       "\n",
       "    .dataframe thead th {\n",
       "        text-align: right;\n",
       "    }\n",
       "</style>\n",
       "<table border=\"1\" class=\"dataframe\">\n",
       "  <thead>\n",
       "    <tr style=\"text-align: right;\">\n",
       "      <th></th>\n",
       "      <th>bookID</th>\n",
       "      <th>title</th>\n",
       "      <th>authors</th>\n",
       "      <th>average_rating</th>\n",
       "      <th>language_code</th>\n",
       "      <th>num_pages</th>\n",
       "      <th>ratings_count</th>\n",
       "      <th>text_reviews_count</th>\n",
       "      <th>publication_date</th>\n",
       "      <th>publisher</th>\n",
       "    </tr>\n",
       "  </thead>\n",
       "  <tbody>\n",
       "    <tr>\n",
       "      <th>0</th>\n",
       "      <td>16967</td>\n",
       "      <td>1632</td>\n",
       "      <td>Eric Flint</td>\n",
       "      <td>4.04</td>\n",
       "      <td>eng</td>\n",
       "      <td>597</td>\n",
       "      <td>8406</td>\n",
       "      <td>638</td>\n",
       "      <td>6/15/2006</td>\n",
       "      <td>Baen Books</td>\n",
       "    </tr>\n",
       "    <tr>\n",
       "      <th>1</th>\n",
       "      <td>1067</td>\n",
       "      <td>1776</td>\n",
       "      <td>David McCullough</td>\n",
       "      <td>4.07</td>\n",
       "      <td>eng</td>\n",
       "      <td>386</td>\n",
       "      <td>166916</td>\n",
       "      <td>6243</td>\n",
       "      <td>7/4/2006</td>\n",
       "      <td>Simon  Schuster</td>\n",
       "    </tr>\n",
       "    <tr>\n",
       "      <th>2</th>\n",
       "      <td>1068</td>\n",
       "      <td>1776</td>\n",
       "      <td>Peter  Stone/Sherman Edwards</td>\n",
       "      <td>4.22</td>\n",
       "      <td>eng</td>\n",
       "      <td>192</td>\n",
       "      <td>1299</td>\n",
       "      <td>30</td>\n",
       "      <td>11/18/1976</td>\n",
       "      <td>Penguin Books</td>\n",
       "    </tr>\n",
       "    <tr>\n",
       "      <th>3</th>\n",
       "      <td>5477</td>\n",
       "      <td>1984</td>\n",
       "      <td>George Orwell/Erich Fromm</td>\n",
       "      <td>4.18</td>\n",
       "      <td>eng</td>\n",
       "      <td>268</td>\n",
       "      <td>1322</td>\n",
       "      <td>121</td>\n",
       "      <td>7/1/1981</td>\n",
       "      <td>Signet Classics</td>\n",
       "    </tr>\n",
       "    <tr>\n",
       "      <th>4</th>\n",
       "      <td>19100</td>\n",
       "      <td>1984</td>\n",
       "      <td>George Orwell/Mauricio Molina/Miguel Martínez ...</td>\n",
       "      <td>4.18</td>\n",
       "      <td>spa</td>\n",
       "      <td>301</td>\n",
       "      <td>451</td>\n",
       "      <td>42</td>\n",
       "      <td>8/1/2002</td>\n",
       "      <td>Lectorum</td>\n",
       "    </tr>\n",
       "    <tr>\n",
       "      <th>...</th>\n",
       "      <td>...</td>\n",
       "      <td>...</td>\n",
       "      <td>...</td>\n",
       "      <td>...</td>\n",
       "      <td>...</td>\n",
       "      <td>...</td>\n",
       "      <td>...</td>\n",
       "      <td>...</td>\n",
       "      <td>...</td>\n",
       "      <td>...</td>\n",
       "    </tr>\n",
       "    <tr>\n",
       "      <th>11118</th>\n",
       "      <td>14741</td>\n",
       "      <td>Zone of the Enders: The 2nd Runner Official St...</td>\n",
       "      <td>Tim Bogenn</td>\n",
       "      <td>5.00</td>\n",
       "      <td>eng</td>\n",
       "      <td>128</td>\n",
       "      <td>2</td>\n",
       "      <td>0</td>\n",
       "      <td>3/6/2003</td>\n",
       "      <td>BradyGames</td>\n",
       "    </tr>\n",
       "    <tr>\n",
       "      <th>11119</th>\n",
       "      <td>38069</td>\n",
       "      <td>Zora Neale Hurston: A Literary Biography</td>\n",
       "      <td>Robert E. Hemenway/Alice Walker</td>\n",
       "      <td>4.10</td>\n",
       "      <td>eng</td>\n",
       "      <td>408</td>\n",
       "      <td>103</td>\n",
       "      <td>9</td>\n",
       "      <td>9/1/1980</td>\n",
       "      <td>University of Illinois Press</td>\n",
       "    </tr>\n",
       "    <tr>\n",
       "      <th>11120</th>\n",
       "      <td>38070</td>\n",
       "      <td>Zora Neale Hurston: Critical Perspectives Past...</td>\n",
       "      <td>Henry Louis Gates Jr./Kwame Anthony Appiah</td>\n",
       "      <td>4.20</td>\n",
       "      <td>eng</td>\n",
       "      <td>238</td>\n",
       "      <td>24</td>\n",
       "      <td>0</td>\n",
       "      <td>2/11/2000</td>\n",
       "      <td>Harper Paperbacks</td>\n",
       "    </tr>\n",
       "    <tr>\n",
       "      <th>11121</th>\n",
       "      <td>24796</td>\n",
       "      <td>Zorro</td>\n",
       "      <td>Isabel Allende/Margaret Sayers Peden/محمدعلی م...</td>\n",
       "      <td>3.76</td>\n",
       "      <td>eng</td>\n",
       "      <td>677</td>\n",
       "      <td>16324</td>\n",
       "      <td>1145</td>\n",
       "      <td>5/3/2005</td>\n",
       "      <td>HarperLargePrint</td>\n",
       "    </tr>\n",
       "    <tr>\n",
       "      <th>11122</th>\n",
       "      <td>31763</td>\n",
       "      <td>Zur Genealogie der Moral</td>\n",
       "      <td>Friedrich Nietzsche</td>\n",
       "      <td>4.11</td>\n",
       "      <td>ger</td>\n",
       "      <td>187</td>\n",
       "      <td>103</td>\n",
       "      <td>4</td>\n",
       "      <td>1/31/1998</td>\n",
       "      <td>Reclam</td>\n",
       "    </tr>\n",
       "  </tbody>\n",
       "</table>\n",
       "<p>10950 rows × 10 columns</p>\n",
       "</div>"
      ],
      "text/plain": [
       "       bookID                                              title  \\\n",
       "0       16967                                               1632   \n",
       "1        1067                                               1776   \n",
       "2        1068                                               1776   \n",
       "3        5477                                               1984   \n",
       "4       19100                                               1984   \n",
       "...       ...                                                ...   \n",
       "11118   14741  Zone of the Enders: The 2nd Runner Official St...   \n",
       "11119   38069           Zora Neale Hurston: A Literary Biography   \n",
       "11120   38070  Zora Neale Hurston: Critical Perspectives Past...   \n",
       "11121   24796                                              Zorro   \n",
       "11122   31763                           Zur Genealogie der Moral   \n",
       "\n",
       "                                                 authors  average_rating  \\\n",
       "0                                             Eric Flint            4.04   \n",
       "1                                       David McCullough            4.07   \n",
       "2                           Peter  Stone/Sherman Edwards            4.22   \n",
       "3                              George Orwell/Erich Fromm            4.18   \n",
       "4      George Orwell/Mauricio Molina/Miguel Martínez ...            4.18   \n",
       "...                                                  ...             ...   \n",
       "11118                                         Tim Bogenn            5.00   \n",
       "11119                    Robert E. Hemenway/Alice Walker            4.10   \n",
       "11120         Henry Louis Gates Jr./Kwame Anthony Appiah            4.20   \n",
       "11121  Isabel Allende/Margaret Sayers Peden/محمدعلی م...            3.76   \n",
       "11122                                Friedrich Nietzsche            4.11   \n",
       "\n",
       "      language_code  num_pages  ratings_count  text_reviews_count  \\\n",
       "0               eng        597           8406                 638   \n",
       "1               eng        386         166916                6243   \n",
       "2               eng        192           1299                  30   \n",
       "3               eng        268           1322                 121   \n",
       "4               spa        301            451                  42   \n",
       "...             ...        ...            ...                 ...   \n",
       "11118           eng        128              2                   0   \n",
       "11119           eng        408            103                   9   \n",
       "11120           eng        238             24                   0   \n",
       "11121           eng        677          16324                1145   \n",
       "11122           ger        187            103                   4   \n",
       "\n",
       "      publication_date                     publisher  \n",
       "0            6/15/2006                    Baen Books  \n",
       "1             7/4/2006               Simon  Schuster  \n",
       "2           11/18/1976                 Penguin Books  \n",
       "3             7/1/1981               Signet Classics  \n",
       "4             8/1/2002                      Lectorum  \n",
       "...                ...                           ...  \n",
       "11118         3/6/2003                    BradyGames  \n",
       "11119         9/1/1980  University of Illinois Press  \n",
       "11120        2/11/2000             Harper Paperbacks  \n",
       "11121         5/3/2005              HarperLargePrint  \n",
       "11122        1/31/1998                        Reclam  \n",
       "\n",
       "[10950 rows x 10 columns]"
      ]
     },
     "execution_count": 18,
     "metadata": {},
     "output_type": "execute_result"
    }
   ],
   "source": [
    "outlier_z = []\n",
    "mean = np.mean(df['ratings_count'])\n",
    "std = np.std(df['ratings_count'])\n",
    "mean, std\n",
    "treshold = 3\n",
    "\n",
    "for i in df['ratings_count']:\n",
    "    z_score = (i - mean) / std\n",
    "    if np.abs(z_score) > treshold:\n",
    "        outlier_z.append(i)\n",
    "\n",
    "       \n",
    "df_z = df.loc[~df['ratings_count'].isin(outlier_z)]\n",
    "df_z"
   ]
  },
  {
   "cell_type": "code",
   "execution_count": 19,
   "metadata": {},
   "outputs": [
    {
     "data": {
      "image/png": "[encoded data removed]",
      "text/plain": [
       "<Figure size 1440x360 with 1 Axes>"
      ]
     },
     "metadata": {
      "needs_background": "light"
     },
     "output_type": "display_data"
    }
   ],
   "source": [
    "# Graphic without IRQ outliers\n",
    "plt.figure(figsize=(20,5))\n",
    "plt.hist(df_no_outlier['ratings_count'])\n",
    "plt.title('Count of Ratings')\n",
    "plt.show()"
   ]
  },
  {
   "cell_type": "code",
   "execution_count": 20,
   "metadata": {},
   "outputs": [
    {
     "data": {
      "image/png": "[encoded data removed]",
      "text/plain": [
       "<Figure size 1440x360 with 1 Axes>"
      ]
     },
     "metadata": {
      "needs_background": "light"
     },
     "output_type": "display_data"
    }
   ],
   "source": [
    "# Graphic without Z_Score outliers\n",
    "plt.figure(figsize=(20,5))\n",
    "plt.hist(df_z['ratings_count'])\n",
    "plt.title('Count of Ratings')\n",
    "plt.show()"
   ]
  },
  {
   "cell_type": "code",
   "execution_count": 21,
   "metadata": {},
   "outputs": [
    {
     "data": {
      "image/png": "[encoded data removed]",
      "text/plain": [
       "<Figure size 720x360 with 1 Axes>"
      ]
     },
     "metadata": {
      "needs_background": "light"
     },
     "output_type": "display_data"
    }
   ],
   "source": [
    "plt.figure(figsize=(10,5))\n",
    "plt.hist(df_no_outlier['average_rating'])\n",
    "plt.title('Average Rating')\n",
    "plt.show()"
   ]
  },
  {
   "cell_type": "code",
   "execution_count": 22,
   "metadata": {},
   "outputs": [
    {
     "data": {
      "image/png": "[encoded data removed]",
      "text/plain": [
       "<Figure size 720x360 with 1 Axes>"
      ]
     },
     "metadata": {
      "needs_background": "light"
     },
     "output_type": "display_data"
    }
   ],
   "source": [
    "plt.figure(figsize=(10,5))\n",
    "plt.hist(df_no_outlier['num_pages'])\n",
    "plt.title('Number of pages by books')\n",
    "plt.show()"
   ]
  },
  {
   "cell_type": "markdown",
   "metadata": {},
   "source": [
    "# Playing with Data to see what we can find out from this dataset"
   ]
  },
  {
   "cell_type": "markdown",
   "metadata": {},
   "source": [
    "## TOP 10 Books with best average"
   ]
  },
  {
   "cell_type": "code",
   "execution_count": 23,
   "metadata": {
    "colab": {
     "base_uri": "https://localhost:8080/",
     "height": 313
    },
    "id": "gmrpHPTRh7iS",
    "outputId": "0cc0a7eb-50ee-4fff-e29c-43f7dc026470"
   },
   "outputs": [
    {
     "data": {
      "text/html": [
       "<div>\n",
       "<style scoped>\n",
       "    .dataframe tbody tr th:only-of-type {\n",
       "        vertical-align: middle;\n",
       "    }\n",
       "\n",
       "    .dataframe tbody tr th {\n",
       "        vertical-align: top;\n",
       "    }\n",
       "\n",
       "    .dataframe thead th {\n",
       "        text-align: right;\n",
       "    }\n",
       "</style>\n",
       "<table border=\"1\" class=\"dataframe\">\n",
       "  <thead>\n",
       "    <tr style=\"text-align: right;\">\n",
       "      <th></th>\n",
       "      <th>bookID</th>\n",
       "      <th>title</th>\n",
       "      <th>authors</th>\n",
       "      <th>average_rating</th>\n",
       "      <th>language_code</th>\n",
       "      <th>num_pages</th>\n",
       "      <th>ratings_count</th>\n",
       "      <th>text_reviews_count</th>\n",
       "      <th>publication_date</th>\n",
       "      <th>publisher</th>\n",
       "    </tr>\n",
       "  </thead>\n",
       "  <tbody>\n",
       "    <tr>\n",
       "      <th>10484</th>\n",
       "      <td>36853</td>\n",
       "      <td>Tyrannosaurus Wrecks (Stanley  #1)</td>\n",
       "      <td>Laura Driscoll/Alisa Klayman-Grodsky/Eric     ...</td>\n",
       "      <td>5.0</td>\n",
       "      <td>eng</td>\n",
       "      <td>24</td>\n",
       "      <td>2</td>\n",
       "      <td>1</td>\n",
       "      <td>2/1/2003</td>\n",
       "      <td>Disney Press</td>\n",
       "    </tr>\n",
       "    <tr>\n",
       "      <th>7028</th>\n",
       "      <td>23276</td>\n",
       "      <td>Taxation of Mineral Rents</td>\n",
       "      <td>Ross Garnaut</td>\n",
       "      <td>5.0</td>\n",
       "      <td>eng</td>\n",
       "      <td>350</td>\n",
       "      <td>1</td>\n",
       "      <td>0</td>\n",
       "      <td>11/17/1983</td>\n",
       "      <td>Oxford University Press  USA</td>\n",
       "    </tr>\n",
       "    <tr>\n",
       "      <th>2707</th>\n",
       "      <td>32823</td>\n",
       "      <td>Fanning the Flame: Bible  Cross  and Mission</td>\n",
       "      <td>Chris    Green/Chris Wright/Paul Douglas Gardner</td>\n",
       "      <td>5.0</td>\n",
       "      <td>eng</td>\n",
       "      <td>336</td>\n",
       "      <td>1</td>\n",
       "      <td>1</td>\n",
       "      <td>6/17/2003</td>\n",
       "      <td>Zondervan</td>\n",
       "    </tr>\n",
       "    <tr>\n",
       "      <th>9047</th>\n",
       "      <td>23552</td>\n",
       "      <td>The New Big Book of America</td>\n",
       "      <td>Todd Davis/Marc Frey</td>\n",
       "      <td>5.0</td>\n",
       "      <td>eng</td>\n",
       "      <td>56</td>\n",
       "      <td>2</td>\n",
       "      <td>1</td>\n",
       "      <td>3/21/2002</td>\n",
       "      <td>Courage Books</td>\n",
       "    </tr>\n",
       "    <tr>\n",
       "      <th>10919</th>\n",
       "      <td>20954</td>\n",
       "      <td>Winchester Shotguns</td>\n",
       "      <td>Dennis Adler/R.L. Wilson</td>\n",
       "      <td>5.0</td>\n",
       "      <td>eng</td>\n",
       "      <td>372</td>\n",
       "      <td>2</td>\n",
       "      <td>0</td>\n",
       "      <td>5/15/2008</td>\n",
       "      <td>Chartwell Books</td>\n",
       "    </tr>\n",
       "  </tbody>\n",
       "</table>\n",
       "</div>"
      ],
      "text/plain": [
       "       bookID                                         title  \\\n",
       "10484   36853            Tyrannosaurus Wrecks (Stanley  #1)   \n",
       "7028    23276                     Taxation of Mineral Rents   \n",
       "2707    32823  Fanning the Flame: Bible  Cross  and Mission   \n",
       "9047    23552                   The New Big Book of America   \n",
       "10919   20954                           Winchester Shotguns   \n",
       "\n",
       "                                                 authors  average_rating  \\\n",
       "10484  Laura Driscoll/Alisa Klayman-Grodsky/Eric     ...             5.0   \n",
       "7028                                        Ross Garnaut             5.0   \n",
       "2707    Chris    Green/Chris Wright/Paul Douglas Gardner             5.0   \n",
       "9047                                Todd Davis/Marc Frey             5.0   \n",
       "10919                           Dennis Adler/R.L. Wilson             5.0   \n",
       "\n",
       "      language_code  num_pages  ratings_count  text_reviews_count  \\\n",
       "10484           eng         24              2                   1   \n",
       "7028            eng        350              1                   0   \n",
       "2707            eng        336              1                   1   \n",
       "9047            eng         56              2                   1   \n",
       "10919           eng        372              2                   0   \n",
       "\n",
       "      publication_date                     publisher  \n",
       "10484         2/1/2003                  Disney Press  \n",
       "7028        11/17/1983  Oxford University Press  USA  \n",
       "2707         6/17/2003                     Zondervan  \n",
       "9047         3/21/2002                 Courage Books  \n",
       "10919        5/15/2008               Chartwell Books  "
      ]
     },
     "execution_count": 23,
     "metadata": {},
     "output_type": "execute_result"
    }
   ],
   "source": [
    "# Top 10 Books with best average rating\n",
    "best_average = df.sort_values(by='average_rating',ascending=False)\n",
    "best_average.head(5)\n",
    "\n",
    "\n"
   ]
  },
  {
   "cell_type": "markdown",
   "metadata": {},
   "source": [
    "### We have a \"problem\" here. Books with a small number of votes will definetely have a higher change of having best averages. It's up to you to decide what is the minimum quantity of notes that will make you believe that a book is trully real"
   ]
  },
  {
   "cell_type": "code",
   "execution_count": 24,
   "metadata": {},
   "outputs": [],
   "source": [
    "# Top 10 Books with best average rating (according to yours criteria)\n",
    "def best_books_4real(ratings_count):\n",
    "\n",
    "    best_average2 = df.loc[df['ratings_count'] > ratings_count].sort_values(by='ratings_count',ascending=False)\n",
    "    return best_average2.head(5)"
   ]
  },
  {
   "cell_type": "code",
   "execution_count": 25,
   "metadata": {},
   "outputs": [
    {
     "data": {
      "text/html": [
       "<div>\n",
       "<style scoped>\n",
       "    .dataframe tbody tr th:only-of-type {\n",
       "        vertical-align: middle;\n",
       "    }\n",
       "\n",
       "    .dataframe tbody tr th {\n",
       "        vertical-align: top;\n",
       "    }\n",
       "\n",
       "    .dataframe thead th {\n",
       "        text-align: right;\n",
       "    }\n",
       "</style>\n",
       "<table border=\"1\" class=\"dataframe\">\n",
       "  <thead>\n",
       "    <tr style=\"text-align: right;\">\n",
       "      <th></th>\n",
       "      <th>bookID</th>\n",
       "      <th>title</th>\n",
       "      <th>authors</th>\n",
       "      <th>average_rating</th>\n",
       "      <th>language_code</th>\n",
       "      <th>num_pages</th>\n",
       "      <th>ratings_count</th>\n",
       "      <th>text_reviews_count</th>\n",
       "      <th>publication_date</th>\n",
       "      <th>publisher</th>\n",
       "    </tr>\n",
       "  </thead>\n",
       "  <tbody>\n",
       "    <tr>\n",
       "      <th>10468</th>\n",
       "      <td>41865</td>\n",
       "      <td>Twilight (Twilight  #1)</td>\n",
       "      <td>Stephenie Meyer</td>\n",
       "      <td>3.59</td>\n",
       "      <td>eng</td>\n",
       "      <td>501</td>\n",
       "      <td>4597666</td>\n",
       "      <td>94265</td>\n",
       "      <td>9/6/2006</td>\n",
       "      <td>Little  Brown and Company</td>\n",
       "    </tr>\n",
       "    <tr>\n",
       "      <th>8450</th>\n",
       "      <td>5907</td>\n",
       "      <td>The Hobbit  or There and Back Again</td>\n",
       "      <td>J.R.R. Tolkien</td>\n",
       "      <td>4.27</td>\n",
       "      <td>eng</td>\n",
       "      <td>366</td>\n",
       "      <td>2530894</td>\n",
       "      <td>32871</td>\n",
       "      <td>8/15/2002</td>\n",
       "      <td>Houghton Mifflin</td>\n",
       "    </tr>\n",
       "    <tr>\n",
       "      <th>7578</th>\n",
       "      <td>5107</td>\n",
       "      <td>The Catcher in the Rye</td>\n",
       "      <td>J.D. Salinger</td>\n",
       "      <td>3.80</td>\n",
       "      <td>eng</td>\n",
       "      <td>277</td>\n",
       "      <td>2457092</td>\n",
       "      <td>43499</td>\n",
       "      <td>1/30/2001</td>\n",
       "      <td>Back Bay Books</td>\n",
       "    </tr>\n",
       "    <tr>\n",
       "      <th>684</th>\n",
       "      <td>960</td>\n",
       "      <td>Angels &amp; Demons (Robert Langdon  #1)</td>\n",
       "      <td>Dan Brown</td>\n",
       "      <td>3.89</td>\n",
       "      <td>eng</td>\n",
       "      <td>736</td>\n",
       "      <td>2418736</td>\n",
       "      <td>21303</td>\n",
       "      <td>4/1/2006</td>\n",
       "      <td>Pocket Books</td>\n",
       "    </tr>\n",
       "    <tr>\n",
       "      <th>3339</th>\n",
       "      <td>5</td>\n",
       "      <td>Harry Potter and the Prisoner of Azkaban (Harr...</td>\n",
       "      <td>J.K. Rowling</td>\n",
       "      <td>4.56</td>\n",
       "      <td>eng</td>\n",
       "      <td>435</td>\n",
       "      <td>2339585</td>\n",
       "      <td>36325</td>\n",
       "      <td>5/1/2004</td>\n",
       "      <td>Scholastic Inc.</td>\n",
       "    </tr>\n",
       "  </tbody>\n",
       "</table>\n",
       "</div>"
      ],
      "text/plain": [
       "       bookID                                              title  \\\n",
       "10468   41865                            Twilight (Twilight  #1)   \n",
       "8450     5907                The Hobbit  or There and Back Again   \n",
       "7578     5107                             The Catcher in the Rye   \n",
       "684       960               Angels & Demons (Robert Langdon  #1)   \n",
       "3339        5  Harry Potter and the Prisoner of Azkaban (Harr...   \n",
       "\n",
       "               authors  average_rating language_code  num_pages  \\\n",
       "10468  Stephenie Meyer            3.59           eng        501   \n",
       "8450    J.R.R. Tolkien            4.27           eng        366   \n",
       "7578     J.D. Salinger            3.80           eng        277   \n",
       "684          Dan Brown            3.89           eng        736   \n",
       "3339      J.K. Rowling            4.56           eng        435   \n",
       "\n",
       "       ratings_count  text_reviews_count publication_date  \\\n",
       "10468        4597666               94265         9/6/2006   \n",
       "8450         2530894               32871        8/15/2002   \n",
       "7578         2457092               43499        1/30/2001   \n",
       "684          2418736               21303         4/1/2006   \n",
       "3339         2339585               36325         5/1/2004   \n",
       "\n",
       "                       publisher  \n",
       "10468  Little  Brown and Company  \n",
       "8450            Houghton Mifflin  \n",
       "7578              Back Bay Books  \n",
       "684                 Pocket Books  \n",
       "3339             Scholastic Inc.  "
      ]
     },
     "execution_count": 25,
     "metadata": {},
     "output_type": "execute_result"
    }
   ],
   "source": [
    "best_books_4real(ratings_count = 20)"
   ]
  },
  {
   "cell_type": "markdown",
   "metadata": {},
   "source": [
    "### Seems like now we have a better result by removing the books voted just by the authors family"
   ]
  },
  {
   "cell_type": "code",
   "execution_count": 26,
   "metadata": {
    "colab": {
     "base_uri": "https://localhost:8080/",
     "height": 262
    },
    "id": "hnroxbXUiBNj",
    "outputId": "22b92514-fbf9-4385-ee2f-2e2621906903"
   },
   "outputs": [
    {
     "data": {
      "text/html": [
       "<div>\n",
       "<style scoped>\n",
       "    .dataframe tbody tr th:only-of-type {\n",
       "        vertical-align: middle;\n",
       "    }\n",
       "\n",
       "    .dataframe tbody tr th {\n",
       "        vertical-align: top;\n",
       "    }\n",
       "\n",
       "    .dataframe thead th {\n",
       "        text-align: right;\n",
       "    }\n",
       "</style>\n",
       "<table border=\"1\" class=\"dataframe\">\n",
       "  <thead>\n",
       "    <tr style=\"text-align: right;\">\n",
       "      <th></th>\n",
       "      <th>bookID</th>\n",
       "      <th>title</th>\n",
       "      <th>authors</th>\n",
       "      <th>average_rating</th>\n",
       "      <th>language_code</th>\n",
       "      <th>num_pages</th>\n",
       "      <th>ratings_count</th>\n",
       "      <th>text_reviews_count</th>\n",
       "      <th>publication_date</th>\n",
       "      <th>publisher</th>\n",
       "    </tr>\n",
       "  </thead>\n",
       "  <tbody>\n",
       "    <tr>\n",
       "      <th>10468</th>\n",
       "      <td>41865</td>\n",
       "      <td>Twilight (Twilight  #1)</td>\n",
       "      <td>Stephenie Meyer</td>\n",
       "      <td>3.59</td>\n",
       "      <td>eng</td>\n",
       "      <td>501</td>\n",
       "      <td>4597666</td>\n",
       "      <td>94265</td>\n",
       "      <td>9/6/2006</td>\n",
       "      <td>Little  Brown and Company</td>\n",
       "    </tr>\n",
       "    <tr>\n",
       "      <th>8450</th>\n",
       "      <td>5907</td>\n",
       "      <td>The Hobbit  or There and Back Again</td>\n",
       "      <td>J.R.R. Tolkien</td>\n",
       "      <td>4.27</td>\n",
       "      <td>eng</td>\n",
       "      <td>366</td>\n",
       "      <td>2530894</td>\n",
       "      <td>32871</td>\n",
       "      <td>8/15/2002</td>\n",
       "      <td>Houghton Mifflin</td>\n",
       "    </tr>\n",
       "    <tr>\n",
       "      <th>7578</th>\n",
       "      <td>5107</td>\n",
       "      <td>The Catcher in the Rye</td>\n",
       "      <td>J.D. Salinger</td>\n",
       "      <td>3.80</td>\n",
       "      <td>eng</td>\n",
       "      <td>277</td>\n",
       "      <td>2457092</td>\n",
       "      <td>43499</td>\n",
       "      <td>1/30/2001</td>\n",
       "      <td>Back Bay Books</td>\n",
       "    </tr>\n",
       "    <tr>\n",
       "      <th>684</th>\n",
       "      <td>960</td>\n",
       "      <td>Angels &amp; Demons (Robert Langdon  #1)</td>\n",
       "      <td>Dan Brown</td>\n",
       "      <td>3.89</td>\n",
       "      <td>eng</td>\n",
       "      <td>736</td>\n",
       "      <td>2418736</td>\n",
       "      <td>21303</td>\n",
       "      <td>4/1/2006</td>\n",
       "      <td>Pocket Books</td>\n",
       "    </tr>\n",
       "    <tr>\n",
       "      <th>3339</th>\n",
       "      <td>5</td>\n",
       "      <td>Harry Potter and the Prisoner of Azkaban (Harr...</td>\n",
       "      <td>J.K. Rowling</td>\n",
       "      <td>4.56</td>\n",
       "      <td>eng</td>\n",
       "      <td>435</td>\n",
       "      <td>2339585</td>\n",
       "      <td>36325</td>\n",
       "      <td>5/1/2004</td>\n",
       "      <td>Scholastic Inc.</td>\n",
       "    </tr>\n",
       "  </tbody>\n",
       "</table>\n",
       "</div>"
      ],
      "text/plain": [
       "       bookID                                              title  \\\n",
       "10468   41865                            Twilight (Twilight  #1)   \n",
       "8450     5907                The Hobbit  or There and Back Again   \n",
       "7578     5107                             The Catcher in the Rye   \n",
       "684       960               Angels & Demons (Robert Langdon  #1)   \n",
       "3339        5  Harry Potter and the Prisoner of Azkaban (Harr...   \n",
       "\n",
       "               authors  average_rating language_code  num_pages  \\\n",
       "10468  Stephenie Meyer            3.59           eng        501   \n",
       "8450    J.R.R. Tolkien            4.27           eng        366   \n",
       "7578     J.D. Salinger            3.80           eng        277   \n",
       "684          Dan Brown            3.89           eng        736   \n",
       "3339      J.K. Rowling            4.56           eng        435   \n",
       "\n",
       "       ratings_count  text_reviews_count publication_date  \\\n",
       "10468        4597666               94265         9/6/2006   \n",
       "8450         2530894               32871        8/15/2002   \n",
       "7578         2457092               43499        1/30/2001   \n",
       "684          2418736               21303         4/1/2006   \n",
       "3339         2339585               36325         5/1/2004   \n",
       "\n",
       "                       publisher  \n",
       "10468  Little  Brown and Company  \n",
       "8450            Houghton Mifflin  \n",
       "7578              Back Bay Books  \n",
       "684                 Pocket Books  \n",
       "3339             Scholastic Inc.  "
      ]
     },
     "execution_count": 26,
     "metadata": {},
     "output_type": "execute_result"
    }
   ],
   "source": [
    "# Top 10 Most voted books\n",
    "most_reviewed = df.sort_values(by='ratings_count',ascending=False)\n",
    "most_reviewed.head(5)"
   ]
  },
  {
   "cell_type": "markdown",
   "metadata": {},
   "source": [
    "## Author with most books and best average"
   ]
  },
  {
   "cell_type": "code",
   "execution_count": 27,
   "metadata": {
    "id": "KDg0ifdKlXZA"
   },
   "outputs": [
    {
     "data": {
      "text/html": [
       "<div>\n",
       "<style scoped>\n",
       "    .dataframe tbody tr th:only-of-type {\n",
       "        vertical-align: middle;\n",
       "    }\n",
       "\n",
       "    .dataframe tbody tr th {\n",
       "        vertical-align: top;\n",
       "    }\n",
       "\n",
       "    .dataframe thead th {\n",
       "        text-align: right;\n",
       "    }\n",
       "</style>\n",
       "<table border=\"1\" class=\"dataframe\">\n",
       "  <thead>\n",
       "    <tr style=\"text-align: right;\">\n",
       "      <th></th>\n",
       "      <th>authors</th>\n",
       "      <th>average_rating_x</th>\n",
       "      <th>average_rating_y</th>\n",
       "    </tr>\n",
       "  </thead>\n",
       "  <tbody>\n",
       "    <tr>\n",
       "      <th>0</th>\n",
       "      <td>A.B. Yehoshua/Hillel Halkin</td>\n",
       "      <td>2</td>\n",
       "      <td>3.600</td>\n",
       "    </tr>\n",
       "    <tr>\n",
       "      <th>1</th>\n",
       "      <td>A.D.P. Briggs/Leo Tolstoy/Fyodor Dostoyevsky</td>\n",
       "      <td>1</td>\n",
       "      <td>3.760</td>\n",
       "    </tr>\n",
       "    <tr>\n",
       "      <th>2</th>\n",
       "      <td>A.E. Cunningham/Harlan Ellison/Charles F. Mill...</td>\n",
       "      <td>1</td>\n",
       "      <td>4.150</td>\n",
       "    </tr>\n",
       "    <tr>\n",
       "      <th>3</th>\n",
       "      <td>A.J. Jacobs</td>\n",
       "      <td>1</td>\n",
       "      <td>3.760</td>\n",
       "    </tr>\n",
       "    <tr>\n",
       "      <th>4</th>\n",
       "      <td>A.M. Homes</td>\n",
       "      <td>1</td>\n",
       "      <td>3.280</td>\n",
       "    </tr>\n",
       "    <tr>\n",
       "      <th>...</th>\n",
       "      <td>...</td>\n",
       "      <td>...</td>\n",
       "      <td>...</td>\n",
       "    </tr>\n",
       "    <tr>\n",
       "      <th>6571</th>\n",
       "      <td>Émile Zola/Henri Mitterand</td>\n",
       "      <td>1</td>\n",
       "      <td>4.060</td>\n",
       "    </tr>\n",
       "    <tr>\n",
       "      <th>6572</th>\n",
       "      <td>Émile Zola/Robert Lethbridge/Elinor Dorday</td>\n",
       "      <td>1</td>\n",
       "      <td>4.010</td>\n",
       "    </tr>\n",
       "    <tr>\n",
       "      <th>6573</th>\n",
       "      <td>Émile Zola/Robin Buss/Brian  Nelson</td>\n",
       "      <td>1</td>\n",
       "      <td>3.990</td>\n",
       "    </tr>\n",
       "    <tr>\n",
       "      <th>6574</th>\n",
       "      <td>Émile Zola/Roger Pearson</td>\n",
       "      <td>2</td>\n",
       "      <td>4.045</td>\n",
       "    </tr>\n",
       "    <tr>\n",
       "      <th>6575</th>\n",
       "      <td>Éric-Emmanuel Schmitt</td>\n",
       "      <td>1</td>\n",
       "      <td>3.820</td>\n",
       "    </tr>\n",
       "  </tbody>\n",
       "</table>\n",
       "<p>6576 rows × 3 columns</p>\n",
       "</div>"
      ],
      "text/plain": [
       "                                                authors  average_rating_x  \\\n",
       "0                           A.B. Yehoshua/Hillel Halkin                 2   \n",
       "1          A.D.P. Briggs/Leo Tolstoy/Fyodor Dostoyevsky                 1   \n",
       "2     A.E. Cunningham/Harlan Ellison/Charles F. Mill...                 1   \n",
       "3                                           A.J. Jacobs                 1   \n",
       "4                                            A.M. Homes                 1   \n",
       "...                                                 ...               ...   \n",
       "6571                         Émile Zola/Henri Mitterand                 1   \n",
       "6572         Émile Zola/Robert Lethbridge/Elinor Dorday                 1   \n",
       "6573                Émile Zola/Robin Buss/Brian  Nelson                 1   \n",
       "6574                           Émile Zola/Roger Pearson                 2   \n",
       "6575                              Éric-Emmanuel Schmitt                 1   \n",
       "\n",
       "      average_rating_y  \n",
       "0                3.600  \n",
       "1                3.760  \n",
       "2                4.150  \n",
       "3                3.760  \n",
       "4                3.280  \n",
       "...                ...  \n",
       "6571             4.060  \n",
       "6572             4.010  \n",
       "6573             3.990  \n",
       "6574             4.045  \n",
       "6575             3.820  \n",
       "\n",
       "[6576 rows x 3 columns]"
      ]
     },
     "execution_count": 27,
     "metadata": {},
     "output_type": "execute_result"
    }
   ],
   "source": [
    "# Autor with best average\n",
    "\n",
    "# Grouping by authors name to find the average\n",
    "authors_avg = df.groupby(by='authors', sort=False)['average_rating'].mean().reset_index()\n",
    "authors_avg.sort_values(by='average_rating',ascending=False)\n",
    "\n",
    "# Grouping by authors name to find the number of books written\n",
    "authors_count = df.groupby(by='authors')['average_rating'].count().reset_index()\n",
    "authors_count.sort_values(by='average_rating', ascending=False)\n",
    "\n",
    "# Converting Series to DataFrame\n",
    "authors_count = authors_count.merge(authors_avg, on = 'authors' )\n",
    "authors_count"
   ]
  },
  {
   "cell_type": "code",
   "execution_count": 28,
   "metadata": {},
   "outputs": [
    {
     "data": {
      "text/html": [
       "<div>\n",
       "<style scoped>\n",
       "    .dataframe tbody tr th:only-of-type {\n",
       "        vertical-align: middle;\n",
       "    }\n",
       "\n",
       "    .dataframe tbody tr th {\n",
       "        vertical-align: top;\n",
       "    }\n",
       "\n",
       "    .dataframe thead th {\n",
       "        text-align: right;\n",
       "    }\n",
       "</style>\n",
       "<table border=\"1\" class=\"dataframe\">\n",
       "  <thead>\n",
       "    <tr style=\"text-align: right;\">\n",
       "      <th></th>\n",
       "      <th>authors</th>\n",
       "      <th>count</th>\n",
       "      <th>mean</th>\n",
       "    </tr>\n",
       "  </thead>\n",
       "  <tbody>\n",
       "    <tr>\n",
       "      <th>5727</th>\n",
       "      <td>Stephen King</td>\n",
       "      <td>40</td>\n",
       "      <td>3.973500</td>\n",
       "    </tr>\n",
       "    <tr>\n",
       "      <th>4693</th>\n",
       "      <td>P.G. Wodehouse</td>\n",
       "      <td>40</td>\n",
       "      <td>4.147250</td>\n",
       "    </tr>\n",
       "    <tr>\n",
       "      <th>5412</th>\n",
       "      <td>Rumiko Takahashi</td>\n",
       "      <td>38</td>\n",
       "      <td>4.190000</td>\n",
       "    </tr>\n",
       "    <tr>\n",
       "      <th>4657</th>\n",
       "      <td>Orson Scott Card</td>\n",
       "      <td>35</td>\n",
       "      <td>3.779143</td>\n",
       "    </tr>\n",
       "    <tr>\n",
       "      <th>45</th>\n",
       "      <td>Agatha Christie</td>\n",
       "      <td>33</td>\n",
       "      <td>3.989091</td>\n",
       "    </tr>\n",
       "    <tr>\n",
       "      <th>4932</th>\n",
       "      <td>Piers Anthony</td>\n",
       "      <td>30</td>\n",
       "      <td>3.716667</td>\n",
       "    </tr>\n",
       "    <tr>\n",
       "      <th>5470</th>\n",
       "      <td>Sandra Brown</td>\n",
       "      <td>29</td>\n",
       "      <td>3.742069</td>\n",
       "    </tr>\n",
       "    <tr>\n",
       "      <th>4255</th>\n",
       "      <td>Mercedes Lackey</td>\n",
       "      <td>29</td>\n",
       "      <td>4.039310</td>\n",
       "    </tr>\n",
       "    <tr>\n",
       "      <th>1384</th>\n",
       "      <td>Dick Francis</td>\n",
       "      <td>28</td>\n",
       "      <td>3.962143</td>\n",
       "    </tr>\n",
       "    <tr>\n",
       "      <th>2592</th>\n",
       "      <td>J.K. Rowling</td>\n",
       "      <td>24</td>\n",
       "      <td>4.521250</td>\n",
       "    </tr>\n",
       "  </tbody>\n",
       "</table>\n",
       "</div>"
      ],
      "text/plain": [
       "               authors  count      mean\n",
       "5727      Stephen King     40  3.973500\n",
       "4693    P.G. Wodehouse     40  4.147250\n",
       "5412  Rumiko Takahashi     38  4.190000\n",
       "4657  Orson Scott Card     35  3.779143\n",
       "45     Agatha Christie     33  3.989091\n",
       "4932     Piers Anthony     30  3.716667\n",
       "5470      Sandra Brown     29  3.742069\n",
       "4255   Mercedes Lackey     29  4.039310\n",
       "1384      Dick Francis     28  3.962143\n",
       "2592      J.K. Rowling     24  4.521250"
      ]
     },
     "execution_count": 28,
     "metadata": {},
     "output_type": "execute_result"
    }
   ],
   "source": [
    "authors_count = authors_count.rename(columns={'average_rating_x':'count', 'average_rating_y':'mean'})\n",
    "authors_count.sort_values(by='count',ascending=False,inplace=True)\n",
    "authors_most_books = authors_count.head(10)\n",
    "authors_most_books"
   ]
  },
  {
   "cell_type": "code",
   "execution_count": 29,
   "metadata": {},
   "outputs": [
    {
     "data": {
      "image/png": "[encoded data removed]",
      "text/plain": [
       "<Figure size 720x360 with 1 Axes>"
      ]
     },
     "metadata": {
      "needs_background": "light"
     },
     "output_type": "display_data"
    }
   ],
   "source": [
    "plt.figure(figsize=(10,5))\n",
    "plt.barh(authors_most_books['authors'], authors_most_books['count'])\n",
    "plt.ylabel('Author')\n",
    "plt.xlabel('Books written')\n",
    "plt.gca().invert_yaxis()"
   ]
  },
  {
   "cell_type": "code",
   "execution_count": 30,
   "metadata": {},
   "outputs": [],
   "source": [
    "def authors_avg(quantity_of_books):\n",
    "    authors_best_avg = authors_count[authors_count['count'] > quantity_of_books].sort_values(by='mean', ascending=False)\n",
    "    authors_best_avg.head(20)\n",
    "    return authors_best_avg"
   ]
  },
  {
   "cell_type": "code",
   "execution_count": 31,
   "metadata": {},
   "outputs": [
    {
     "data": {
      "text/html": [
       "<div>\n",
       "<style scoped>\n",
       "    .dataframe tbody tr th:only-of-type {\n",
       "        vertical-align: middle;\n",
       "    }\n",
       "\n",
       "    .dataframe tbody tr th {\n",
       "        vertical-align: top;\n",
       "    }\n",
       "\n",
       "    .dataframe thead th {\n",
       "        text-align: right;\n",
       "    }\n",
       "</style>\n",
       "<table border=\"1\" class=\"dataframe\">\n",
       "  <thead>\n",
       "    <tr style=\"text-align: right;\">\n",
       "      <th></th>\n",
       "      <th>authors</th>\n",
       "      <th>count</th>\n",
       "      <th>mean</th>\n",
       "    </tr>\n",
       "  </thead>\n",
       "  <tbody>\n",
       "    <tr>\n",
       "      <th>5412</th>\n",
       "      <td>Rumiko Takahashi</td>\n",
       "      <td>38</td>\n",
       "      <td>4.190000</td>\n",
       "    </tr>\n",
       "    <tr>\n",
       "      <th>4693</th>\n",
       "      <td>P.G. Wodehouse</td>\n",
       "      <td>40</td>\n",
       "      <td>4.147250</td>\n",
       "    </tr>\n",
       "    <tr>\n",
       "      <th>45</th>\n",
       "      <td>Agatha Christie</td>\n",
       "      <td>33</td>\n",
       "      <td>3.989091</td>\n",
       "    </tr>\n",
       "    <tr>\n",
       "      <th>5727</th>\n",
       "      <td>Stephen King</td>\n",
       "      <td>40</td>\n",
       "      <td>3.973500</td>\n",
       "    </tr>\n",
       "    <tr>\n",
       "      <th>4657</th>\n",
       "      <td>Orson Scott Card</td>\n",
       "      <td>35</td>\n",
       "      <td>3.779143</td>\n",
       "    </tr>\n",
       "  </tbody>\n",
       "</table>\n",
       "</div>"
      ],
      "text/plain": [
       "               authors  count      mean\n",
       "5412  Rumiko Takahashi     38  4.190000\n",
       "4693    P.G. Wodehouse     40  4.147250\n",
       "45     Agatha Christie     33  3.989091\n",
       "5727      Stephen King     40  3.973500\n",
       "4657  Orson Scott Card     35  3.779143"
      ]
     },
     "execution_count": 31,
     "metadata": {},
     "output_type": "execute_result"
    }
   ],
   "source": [
    "# Change the number to filter authors based on quantity of books published\n",
    "authors_avg(30)"
   ]
  },
  {
   "cell_type": "markdown",
   "metadata": {},
   "source": [
    "## Checking if there is any correlation between columns"
   ]
  },
  {
   "cell_type": "code",
   "execution_count": 32,
   "metadata": {
    "scrolled": true
   },
   "outputs": [
    {
     "data": {
      "text/plain": [
       "<matplotlib.axes._subplots.AxesSubplot at 0x19ec42aae88>"
      ]
     },
     "execution_count": 32,
     "metadata": {},
     "output_type": "execute_result"
    },
    {
     "data": {
      "image/png": "[encoded data removed]",
      "text/plain": [
       "<Figure size 432x288 with 2 Axes>"
      ]
     },
     "metadata": {
      "needs_background": "light"
     },
     "output_type": "display_data"
    }
   ],
   "source": [
    "sns.heatmap(df.corr())"
   ]
  },
  {
   "cell_type": "markdown",
   "metadata": {},
   "source": [
    "## Books with more ratings receive more reviews?"
   ]
  },
  {
   "cell_type": "code",
   "execution_count": 33,
   "metadata": {},
   "outputs": [
    {
     "data": {
      "image/png": "[encoded data removed]",
      "text/plain": [
       "<Figure size 864x360 with 1 Axes>"
      ]
     },
     "metadata": {
      "needs_background": "light"
     },
     "output_type": "display_data"
    }
   ],
   "source": [
    "plt.figure(figsize=(12,5))\n",
    "plt.scatter(x = df['ratings_count'],y= df['text_reviews_count'])\n",
    "plt.xlabel('Ratings')\n",
    "plt.ylabel('Reviews')\n",
    "plt.show()"
   ]
  },
  {
   "cell_type": "markdown",
   "metadata": {},
   "source": [
    "### Seems like a positive correlation"
   ]
  },
  {
   "cell_type": "markdown",
   "metadata": {},
   "source": [
    "## Shorter books receive more votes?"
   ]
  },
  {
   "cell_type": "code",
   "execution_count": 41,
   "metadata": {},
   "outputs": [
    {
     "data": {
      "image/png": "[encoded data removed]",
      "text/plain": [
       "<Figure size 432x288 with 1 Axes>"
      ]
     },
     "metadata": {
      "needs_background": "light"
     },
     "output_type": "display_data"
    }
   ],
   "source": [
    "df_3= df.loc[df['ratings_count'] < 1000000]\n",
    "plt.figure()\n",
    "plt.hist(x = df_3['ratings_count'])\n",
    "plt.xlabel('Quantity of review')\n",
    "plt.ylabel('Count')\n",
    "plt.show()"
   ]
  },
  {
   "cell_type": "code",
   "execution_count": 42,
   "metadata": {},
   "outputs": [
    {
     "data": {
      "image/png": "[encoded data removed]",
      "text/plain": [
       "<Figure size 432x288 with 1 Axes>"
      ]
     },
     "metadata": {
      "needs_background": "light"
     },
     "output_type": "display_data"
    }
   ],
   "source": [
    "plt.figure()\n",
    "plt.scatter(x =df_3['num_pages'] , y = df_3['ratings_count'])\n",
    "plt.title(' Relation between Number of pages and Rating?')\n",
    "plt.xlabel(' Votes')\n",
    "plt.ylabel(' Number of pages')\n",
    "plt.show()"
   ]
  },
  {
   "cell_type": "markdown",
   "metadata": {},
   "source": [
    "### According to graphic we can say that books with more pages are less likely to receive a rating on website."
   ]
  },
  {
   "cell_type": "code",
   "execution_count": null,
   "metadata": {},
   "outputs": [],
   "source": [
    "# Best book of each year\n",
    "# Author with most books publicized"
   ]
  }
 ],
 "metadata": {
  "colab": {
   "collapsed_sections": [],
   "name": "Livros.ipynb",
   "provenance": []
  },
  "kernelspec": {
   "display_name": "Python 3",
   "language": "python",
   "name": "python3"
  },
  "language_info": {
   "codemirror_mode": {
    "name": "ipython",
    "version": 3
   },
   "file_extension": ".py",
   "mimetype": "text/x-python",
   "name": "python",
   "nbconvert_exporter": "python",
   "pygments_lexer": "ipython3",
   "version": "3.7.6"
  }
 },
 "nbformat": 4,
 "nbformat_minor": 1
}
